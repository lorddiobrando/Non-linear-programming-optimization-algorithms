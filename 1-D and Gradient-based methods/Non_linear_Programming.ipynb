{
  "nbformat": 4,
  "nbformat_minor": 0,
  "metadata": {
    "colab": {
      "provenance": [],
      "collapsed_sections": [
        "yZ18MFN01D3u",
        "CF11OtC4h_qk",
        "MZ_kChWD08oi"
      ]
    },
    "kernelspec": {
      "name": "python3",
      "display_name": "Python 3"
    },
    "language_info": {
      "name": "python"
    }
  },
  "cells": [
    {
      "cell_type": "markdown",
      "source": [
        "# Author: Amr Khalid\n",
        "\n"
      ],
      "metadata": {
        "id": "4atw3GeIIrJe"
      }
    },
    {
      "cell_type": "markdown",
      "source": [
        "# Objective Functions"
      ],
      "metadata": {
        "id": "yZ18MFN01D3u"
      }
    },
    {
      "cell_type": "code",
      "source": [
        "import numpy as np\n",
        "import time"
      ],
      "metadata": {
        "id": "MZNGp9ZupE_O"
      },
      "execution_count": null,
      "outputs": []
    },
    {
      "cell_type": "code",
      "source": [
        "from sympy import symbols, diff, lambdify"
      ],
      "metadata": {
        "id": "bL_say5Tmca0"
      },
      "execution_count": null,
      "outputs": []
    },
    {
      "cell_type": "code",
      "source": [
        "def rosenbrock(vec):\n",
        "  return 100 * (vec[1] - vec[0] ** 2) ** 2 + (1 - vec[0]) ** 2"
      ],
      "metadata": {
        "id": "CFc3vo_onLcz"
      },
      "execution_count": null,
      "outputs": []
    },
    {
      "cell_type": "code",
      "execution_count": null,
      "metadata": {
        "id": "7_c4pouDb28U"
      },
      "outputs": [],
      "source": [
        "def gradient_rosenbrock(vec):\n",
        "  grad = np.zeros(2)\n",
        "\n",
        "  grad[0] = 400 * vec[0] ** 3 - 400 * vec[0] * vec[1] + 2 * vec[0] - 2\n",
        "  grad[1] = 200 * vec[1] - 200 * vec[0] ** 2\n",
        "\n",
        "  return grad"
      ]
    },
    {
      "cell_type": "code",
      "source": [
        "def hessian_rosenbrock(vec):\n",
        "  hessian = np.zeros((2, 2))\n",
        "\n",
        "  hessian[0, 0] = 1200 * vec[0] ** 2 - 400 * vec[1] + 2\n",
        "  hessian[1, 1] = 200\n",
        "\n",
        "  hessian[0, 1] = -400 * vec[0]\n",
        "  hessian[1, 0] = hessian[0, 1]\n",
        "\n",
        "  return hessian"
      ],
      "metadata": {
        "id": "TQx_tuD3egJn"
      },
      "execution_count": null,
      "outputs": []
    },
    {
      "cell_type": "code",
      "source": [
        "def powell(vec):\n",
        "  return (vec[0] + 10 * vec[1]) ** 2 + 5 * (vec[2] - vec[3]) ** 2 + (vec[1] - 2 * vec[2]) ** 4 + 10 * (vec[0] - vec[3]) ** 4"
      ],
      "metadata": {
        "id": "rN4cDqYBnTju"
      },
      "execution_count": null,
      "outputs": []
    },
    {
      "cell_type": "code",
      "source": [
        "def gradient_powell(vec):\n",
        "    grad = np.zeros(4)\n",
        "\n",
        "    grad[0] = 2 * (vec[0] + 10 * vec[1]) + 40 * (vec[0] - vec[3]) ** 3\n",
        "    grad[1] = 20 * (vec[0] + 10 * vec[1]) + 4 * (vec[1] - 2 * vec[2]) ** 3\n",
        "    grad[2] = 10 * (vec[2] - vec[3]) - 8 * (vec[1] - 2 * vec[2]) ** 3\n",
        "    grad[3] = -10 * (vec[2] - vec[3]) - 40 * (vec[0] - vec[3]) ** 3\n",
        "\n",
        "    return grad"
      ],
      "metadata": {
        "id": "AJA5BQfZezmE"
      },
      "execution_count": null,
      "outputs": []
    },
    {
      "cell_type": "code",
      "source": [
        "def hessian_powell(vec):\n",
        "    hessian = np.zeros((4, 4))\n",
        "\n",
        "    hessian[0, 0] = 2 + 120 * (vec[0] - vec[3]) ** 2\n",
        "    hessian[1, 1] = 200 + 12 * (vec[1] - 2 * vec[2]) ** 2\n",
        "    hessian[2, 2] = 10 + 48 * (vec[1] - 2 * vec[2]) ** 2\n",
        "    hessian[3, 3] = 10 + 120 * (vec[0] - vec[3]) ** 2\n",
        "\n",
        "    hessian[0, 1] = 20\n",
        "    hessian[1, 0] = hessian[0, 1]\n",
        "\n",
        "    hessian[0, 3] = -120 * (vec[0] - vec[3]) ** 2\n",
        "    hessian[3, 0] = hessian[0, 3]\n",
        "\n",
        "    hessian[1, 2] = -24 * (vec[1] - 2 * vec[2]) ** 2\n",
        "    hessian[2, 1] = hessian[1, 2]\n",
        "\n",
        "    hessian[2, 3] = -10\n",
        "    hessian[3, 2] = hessian[2, 3]\n",
        "\n",
        "    return hessian"
      ],
      "metadata": {
        "id": "RcoVeeN7gqkp"
      },
      "execution_count": null,
      "outputs": []
    },
    {
      "cell_type": "code",
      "source": [
        "def powell_1D(val, direction = None):\n",
        "  x = np.array([3, -1, 0, 1])\n",
        "  if direction is None:\n",
        "    direction = -gradient_powell(x)\n",
        "  return powell(x + val * direction)"
      ],
      "metadata": {
        "id": "7_qnaNz2iuS7"
      },
      "execution_count": null,
      "outputs": []
    },
    {
      "cell_type": "code",
      "source": [
        "def rosenbrock_1D(val, direction = None):\n",
        "  x = np.array([-1.2, 1])\n",
        "  if direction is None:\n",
        "    direction = -gradient_rosenbrock(x)\n",
        "  return rosenbrock(x + val * direction)"
      ],
      "metadata": {
        "id": "ykhDF9WWlMbl"
      },
      "execution_count": null,
      "outputs": []
    },
    {
      "cell_type": "code",
      "source": [
        "def powell_1D_symbolic():\n",
        "  X = symbols('X')\n",
        "  x = np.array([3, -1, 0, 1])\n",
        "  direction = -gradient_powell(x)\n",
        "  return powell(x + X * direction)"
      ],
      "metadata": {
        "id": "IQgObjTzmwqB"
      },
      "execution_count": null,
      "outputs": []
    },
    {
      "cell_type": "code",
      "source": [
        "def rosenbrock_1D_symbolic():\n",
        "  X = symbols('X')\n",
        "  x = np.array([-1.2, 1])\n",
        "  direction = -gradient_rosenbrock(x)\n",
        "  return rosenbrock(x + X * direction)"
      ],
      "metadata": {
        "id": "L9WVitK7nPIY"
      },
      "execution_count": null,
      "outputs": []
    },
    {
      "cell_type": "markdown",
      "source": [
        "# 1-D Minimization techniques"
      ],
      "metadata": {
        "id": "CF11OtC4h_qk"
      }
    },
    {
      "cell_type": "code",
      "source": [
        "stats_powell = dict()\n",
        "stats_rosenbrock = dict()"
      ],
      "metadata": {
        "id": "oUFnBBVjxyi_"
      },
      "execution_count": null,
      "outputs": []
    },
    {
      "cell_type": "markdown",
      "source": [
        "## fibonacci search"
      ],
      "metadata": {
        "id": "-jwLL_lMiEE0"
      }
    },
    {
      "cell_type": "code",
      "execution_count": null,
      "metadata": {
        "id": "ETtWZi9tuXkb"
      },
      "outputs": [],
      "source": [
        "def fib(n):\n",
        "  '''\n",
        "  - fib function designed to return the list of fibonacci numbers where the last element of the list is\n",
        "    the first fibonacci number > n.\n",
        "  '''\n",
        "  fib_list = []\n",
        "  fib_list.append(1)\n",
        "  fib_list.append(1)\n",
        "  fib_list.append(2)\n",
        "  i = 2\n",
        "  while fib_list[i] < n:\n",
        "    fib_list.append(fib_list[i] + fib_list[i - 1])\n",
        "    i += 1\n",
        "\n",
        "  return fib_list"
      ]
    },
    {
      "cell_type": "code",
      "source": [
        "def fib_search(lower_bound, upper_bound, accuracy, OF):\n",
        "  search_range = upper_bound - lower_bound\n",
        "  sections = search_range / accuracy\n",
        "\n",
        "  fib_list = fib(sections)\n",
        "  n = len(fib_list)\n",
        "  print('The choice of f_n is:', fib_list[-1])\n",
        "\n",
        "  r = fib_list[n - 2] / fib_list[n - 1]\n",
        "  D = search_range * r\n",
        "\n",
        "  x1 = lower_bound + D\n",
        "  x2 = upper_bound - D\n",
        "\n",
        "  f_x1 = OF(x1)\n",
        "  f_x2 = OF(x2)\n",
        "\n",
        "  print('lower bound is:', lower_bound, 'upper bound is:', upper_bound, 'd is:', D, 'x1 is:', x1, 'x2 is:', x2, 'f_x1 is:', f_x1, 'f_x2 is:', f_x2, 'r is:', r)\n",
        "\n",
        "  to_be_computed = None\n",
        "  if f_x2 < f_x1:\n",
        "    upper_bound = x1\n",
        "    x1 = x2\n",
        "    f_x1 = f_x2\n",
        "    to_be_computed = 2\n",
        "  elif f_x1 < f_x2:\n",
        "    lower_bound = x2\n",
        "    x2 = x1\n",
        "    f_x2 = f_x1\n",
        "    to_be_computed = 1\n",
        "\n",
        "  for i in range(n - 2, 1, -1):\n",
        "    search_range = upper_bound - lower_bound\n",
        "    r = fib_list[i - 1] / fib_list[i]\n",
        "    D = search_range * r\n",
        "    if to_be_computed == 2:\n",
        "      x2 = upper_bound - D\n",
        "      f_x2 = OF(x2)\n",
        "    elif to_be_computed == 1:\n",
        "      x1 = lower_bound + D\n",
        "      f_x1 = OF(x1)\n",
        "\n",
        "    print('lower bound is:', lower_bound, 'upper bound is:', upper_bound, 'd is:', D, 'x1 is:', x1, 'x2 is:', x2, 'f_x1 is:', f_x1, 'f_x2 is:', f_x2, 'r is:', r)\n",
        "\n",
        "    if f_x2 < f_x1:\n",
        "      upper_bound = x1\n",
        "      x1 = x2\n",
        "      f_x1 = f_x2\n",
        "      to_be_computed = 2\n",
        "    elif f_x1 < f_x2:\n",
        "      lower_bound = x2\n",
        "      x2 = x1\n",
        "      f_x2 = f_x1\n",
        "      to_be_computed = 1\n",
        "\n",
        "  return (x1 + x2) / 2, (f_x1 + f_x2) / 2, n - 2"
      ],
      "metadata": {
        "id": "T9Qmiqigvp5U"
      },
      "execution_count": null,
      "outputs": []
    },
    {
      "cell_type": "code",
      "source": [
        "start_time = time.time()\n",
        "x, f_x, iters = fib_search(0, 1, 0.01, powell_1D)\n",
        "end_time = time.time()\n",
        "stats_powell['fib'] = [x, f_x, iters, end_time - start_time]"
      ],
      "metadata": {
        "colab": {
          "base_uri": "https://localhost:8080/"
        },
        "id": "yHdSZ_wQkSZp",
        "outputId": "1b4627d3-fb2a-409c-f10c-f85bfbaa1a00"
      },
      "execution_count": null,
      "outputs": [
        {
          "output_type": "stream",
          "name": "stdout",
          "text": [
            "The choice of f_n is: 144\n",
            "lower bound is: 0 upper bound is: 1 d is: 0.6180555555555556 x1 is: 0.6180555555555556 x2 is: 0.3819444444444444 f_x1 is: 205777319072.8251 f_x2 is: 29621587743.810158 r is: 0.6180555555555556\n",
            "lower bound is: 0 upper bound is: 0.6180555555555556 d is: 0.3819444444444444 x1 is: 0.3819444444444444 x2 is: 0.23611111111111116 f_x1 is: 29621587743.810158 f_x2 is: 4234995815.453724 r is: 0.6179775280898876\n",
            "lower bound is: 0 upper bound is: 0.3819444444444444 d is: 0.23611111111111108 x1 is: 0.23611111111111116 x2 is: 0.14583333333333334 f_x1 is: 4234995815.453724 f_x2 is: 595342862.2895933 r is: 0.6181818181818182\n",
            "lower bound is: 0 upper bound is: 0.23611111111111116 d is: 0.14583333333333337 x1 is: 0.14583333333333334 x2 is: 0.09027777777777779 f_x1 is: 595342862.2895933 f_x2 is: 82639048.80584432 r is: 0.6176470588235294\n",
            "lower bound is: 0 upper bound is: 0.14583333333333334 d is: 0.09027777777777779 x1 is: 0.09027777777777779 x2 is: 0.05555555555555555 f_x1 is: 82639048.80584432 f_x2 is: 10786965.642737387 r is: 0.6190476190476191\n",
            "lower bound is: 0 upper bound is: 0.09027777777777779 d is: 0.055555555555555566 x1 is: 0.05555555555555555 x2 is: 0.034722222222222224 f_x1 is: 10786965.642737387 f_x2 is: 1415180.417812762 r is: 0.6153846153846154\n",
            "lower bound is: 0 upper bound is: 0.05555555555555555 d is: 0.034722222222222224 x1 is: 0.034722222222222224 x2 is: 0.02083333333333333 f_x1 is: 1415180.417812762 f_x2 is: 138301.22477816342 r is: 0.625\n",
            "lower bound is: 0 upper bound is: 0.034722222222222224 d is: 0.020833333333333332 x1 is: 0.02083333333333333 x2 is: 0.013888888888888892 f_x1 is: 138301.22477816342 f_x2 is: 18685.404340039648 r is: 0.6\n",
            "lower bound is: 0 upper bound is: 0.02083333333333333 d is: 0.013888888888888885 x1 is: 0.013888888888888892 x2 is: 0.006944444444444444 f_x1 is: 18685.404340039648 f_x2 is: 319.21036534541224 r is: 0.6666666666666666\n",
            "lower bound is: 0 upper bound is: 0.013888888888888892 d is: 0.006944444444444446 x1 is: 0.006944444444444444 x2 is: 0.006944444444444446 f_x1 is: 319.21036534541224 f_x2 is: 319.2103653454127 r is: 0.5\n"
          ]
        }
      ]
    },
    {
      "cell_type": "code",
      "source": [
        "start_time = time.time()\n",
        "x, f_x, iters = fib_search(0, 1, 0.01, rosenbrock_1D)\n",
        "end_time = time.time()\n",
        "stats_rosenbrock['fib'] = [x, f_x, iters, end_time - start_time]"
      ],
      "metadata": {
        "colab": {
          "base_uri": "https://localhost:8080/"
        },
        "id": "0C_4WyAnlU4x",
        "outputId": "519e282d-26f5-4050-8b5c-c9ae3e26d915"
      },
      "execution_count": null,
      "outputs": [
        {
          "output_type": "stream",
          "name": "stdout",
          "text": [
            "The choice of f_n is: 144\n",
            "lower bound is: 0 upper bound is: 1 d is: 0.6180555555555556 x1 is: 0.6180555555555556 x2 is: 0.3819444444444444 f_x1 is: 30215311994.934006 f_x2 is: 4290597768.2523484 r is: 0.6180555555555556\n",
            "lower bound is: 0 upper bound is: 0.6180555555555556 d is: 0.3819444444444444 x1 is: 0.3819444444444444 x2 is: 0.23611111111111116 f_x1 is: 4290597768.2523484 f_x2 is: 599696094.0740087 r is: 0.6179775280898876\n",
            "lower bound is: 0 upper bound is: 0.3819444444444444 d is: 0.23611111111111108 x1 is: 0.23611111111111116 x2 is: 0.14583333333333334 f_x1 is: 599696094.0740087 f_x2 is: 81131420.14763929 r is: 0.6181818181818182\n",
            "lower bound is: 0 upper bound is: 0.23611111111111116 d is: 0.14583333333333337 x1 is: 0.14583333333333334 x2 is: 0.09027777777777779 f_x1 is: 81131420.14763929 f_x2 is: 10538449.628475932 r is: 0.6176470588235294\n",
            "lower bound is: 0 upper bound is: 0.14583333333333334 d is: 0.09027777777777779 x1 is: 0.09027777777777779 x2 is: 0.05555555555555555 f_x1 is: 10538449.628475932 f_x2 is: 1216078.2905044951 r is: 0.6190476190476191\n",
            "lower bound is: 0 upper bound is: 0.09027777777777779 d is: 0.055555555555555566 x1 is: 0.05555555555555555 x2 is: 0.034722222222222224 f_x1 is: 1216078.2905044951 f_x2 is: 125766.53103938613 r is: 0.6153846153846154\n",
            "lower bound is: 0 upper bound is: 0.05555555555555555 d is: 0.034722222222222224 x1 is: 0.034722222222222224 x2 is: 0.02083333333333333 f_x1 is: 125766.53103938613 f_x2 is: 6408.0298152970445 r is: 0.625\n",
            "lower bound is: 0 upper bound is: 0.034722222222222224 d is: 0.020833333333333332 x1 is: 0.02083333333333333 x2 is: 0.013888888888888892 f_x1 is: 6408.0298152970445 f_x2 is: 100.19335057536931 r is: 0.6\n",
            "lower bound is: 0 upper bound is: 0.02083333333333333 d is: 0.013888888888888885 x1 is: 0.013888888888888892 x2 is: 0.006944444444444444 f_x1 is: 100.19335057536931 f_x2 is: 232.37676269456833 r is: 0.6666666666666666\n",
            "lower bound is: 0.006944444444444444 upper bound is: 0.02083333333333333 d is: 0.006944444444444442 x1 is: 0.013888888888888886 x2 is: 0.013888888888888892 f_x1 is: 100.1933505753687 f_x2 is: 100.19335057536931 r is: 0.5\n"
          ]
        }
      ]
    },
    {
      "cell_type": "markdown",
      "source": [
        "## golden section search"
      ],
      "metadata": {
        "id": "IfmDULjjliwz"
      }
    },
    {
      "cell_type": "code",
      "source": [
        "def golden_section(lower_bound, upper_bound, accuracy, OF):\n",
        "  search_range = upper_bound - lower_bound\n",
        "  r = 0.618\n",
        "  D = search_range * r\n",
        "\n",
        "  x1 = lower_bound + D\n",
        "  x2 = upper_bound - D\n",
        "\n",
        "  f_x1 = OF(x1)\n",
        "  f_x2 = OF(x2)\n",
        "\n",
        "  print('lower bound is:', lower_bound, 'upper bound is:', upper_bound, 'd is:', D, 'x1 is:', x1, 'x2 is:', x2, 'f_x1 is:', f_x1, 'f_x2 is:', f_x2)\n",
        "\n",
        "  to_be_computed = None\n",
        "  if f_x2 < f_x1:\n",
        "    upper_bound = x1\n",
        "    x1 = x2\n",
        "    f_x1 = f_x2\n",
        "    to_be_computed = 2\n",
        "  elif f_x1 < f_x2:\n",
        "    lower_bound = x2\n",
        "    x2 = x1\n",
        "    f_x2 = f_x1\n",
        "    to_be_computed = 1\n",
        "\n",
        "  iterations = 1\n",
        "  while search_range > accuracy:\n",
        "    search_range = upper_bound - lower_bound\n",
        "    D = search_range * r\n",
        "\n",
        "    if to_be_computed == 2:\n",
        "      x2 = upper_bound - D\n",
        "      f_x2 = OF(x2)\n",
        "    elif to_be_computed == 1:\n",
        "      x1 = lower_bound + D\n",
        "      f_x1 = OF(x1)\n",
        "\n",
        "    print('lower bound is:', lower_bound, 'upper bound is:', upper_bound, 'd is:', D, 'x1 is:', x1, 'x2 is:', x2, 'f_x1 is:', f_x1, 'f_x2 is:', f_x2)\n",
        "\n",
        "    if f_x2 < f_x1:\n",
        "      upper_bound = x1\n",
        "      x1 = x2\n",
        "      f_x1 = f_x2\n",
        "      to_be_computed = 2\n",
        "    elif f_x1 < f_x2:\n",
        "      lower_bound = x2\n",
        "      x2 = x1\n",
        "      f_x2 = f_x1\n",
        "      to_be_computed = 1\n",
        "\n",
        "    iterations += 1\n",
        "\n",
        "  return (x1 + x2) / 2, (f_x1 + f_x2) / 2, iterations"
      ],
      "metadata": {
        "id": "zh1W_Oqv7tB0"
      },
      "execution_count": null,
      "outputs": []
    },
    {
      "cell_type": "code",
      "source": [
        "start_time = time.time()\n",
        "x, f_x, iters = golden_section(0, 1, 0.01, powell_1D)\n",
        "end_time = time.time()\n",
        "stats_powell['gs'] = [x, f_x, iters, end_time - start_time]"
      ],
      "metadata": {
        "colab": {
          "base_uri": "https://localhost:8080/"
        },
        "id": "9eS8zeoKlq2B",
        "outputId": "cdb2fbf5-2da1-45a2-f959-3ccb47f2a1ab"
      },
      "execution_count": null,
      "outputs": [
        {
          "output_type": "stream",
          "name": "stdout",
          "text": [
            "lower bound is: 0 upper bound is: 1 d is: 0.618 x1 is: 0.618 x2 is: 0.382 f_x1 is: 205702951078.7585 f_x2 is: 29638973678.289345\n",
            "lower bound is: 0 upper bound is: 0.618 d is: 0.381924 x1 is: 0.382 x2 is: 0.236076 f_x1 is: 29638973678.289345 f_x2 is: 4232442213.076061\n",
            "lower bound is: 0 upper bound is: 0.382 d is: 0.236076 x1 is: 0.236076 x2 is: 0.145924 f_x1 is: 4232442213.076061 f_x2 is: 596858517.0493152\n",
            "lower bound is: 0 upper bound is: 0.236076 d is: 0.145894968 x1 is: 0.145924 x2 is: 0.090181032 f_x1 is: 596858517.0493152 f_x2 is: 82272232.34172365\n",
            "lower bound is: 0 upper bound is: 0.145924 d is: 0.090181032 x1 is: 0.090181032 x2 is: 0.055742968000000004 f_x1 is: 82272232.34172365 f_x2 is: 10942356.943803467\n",
            "lower bound is: 0 upper bound is: 0.090181032 d is: 0.05573187777599999 x1 is: 0.055742968000000004 x2 is: 0.034449154224 f_x1 is: 10942356.943803467 f_x2 is: 1366734.2748699065\n",
            "lower bound is: 0 upper bound is: 0.055742968000000004 d is: 0.034449154224 x1 is: 0.034449154224 x2 is: 0.021293813776000002 f_x1 is: 1366734.2748699065 f_x2 is: 153333.6648443953\n",
            "lower bound is: 0 upper bound is: 0.034449154224 d is: 0.021289577310432 x1 is: 0.021293813776000002 x2 is: 0.013159576913568002 f_x1 is: 153333.6648443953 f_x2 is: 14094.071578715457\n",
            "lower bound is: 0 upper bound is: 0.021293813776000002 d is: 0.013159576913568002 x1 is: 0.013159576913568002 x2 is: 0.008134236862432 f_x1 is: 14094.071578715457 f_x2 is: 887.9917169660198\n",
            "lower bound is: 0 upper bound is: 0.013159576913568002 d is: 0.008132618532585024 x1 is: 0.008134236862432 x2 is: 0.005026958380982978 f_x1 is: 887.9917169660198 f_x2 is: 48.62661892129864\n",
            "lower bound is: 0 upper bound is: 0.008134236862432 d is: 0.005026958380982976 x1 is: 0.005026958380982978 x2 is: 0.0031072784814490245 f_x1 is: 48.62661892129864 f_x2 is: 31.337481197359658\n"
          ]
        }
      ]
    },
    {
      "cell_type": "code",
      "source": [
        "start_time = time.time()\n",
        "x, f_x, iters = golden_section(0, 1, 0.01, rosenbrock_1D)\n",
        "end_time = time.time()\n",
        "stats_rosenbrock['gs'] = [x, f_x, iters, end_time - start_time]"
      ],
      "metadata": {
        "colab": {
          "base_uri": "https://localhost:8080/"
        },
        "id": "KYTEzx7fl_WH",
        "outputId": "d9e4b43f-150f-4ddf-803b-dffaabcf896b"
      },
      "execution_count": null,
      "outputs": [
        {
          "output_type": "stream",
          "name": "stdout",
          "text": [
            "lower bound is: 0 upper bound is: 1 d is: 0.618 x1 is: 0.618 x2 is: 0.382 f_x1 is: 30204332902.528515 f_x2 is: 4293138574.8633866\n",
            "lower bound is: 0 upper bound is: 0.618 d is: 0.381924 x1 is: 0.382 x2 is: 0.236076 f_x1 is: 4293138574.8633866 f_x2 is: 599329118.2862959\n",
            "lower bound is: 0 upper bound is: 0.382 d is: 0.236076 x1 is: 0.236076 x2 is: 0.145924 f_x1 is: 599329118.2862959 f_x2 is: 81343178.43025668\n",
            "lower bound is: 0 upper bound is: 0.236076 d is: 0.145894968 x1 is: 0.145924 x2 is: 0.090181032 f_x1 is: 81343178.43025668 f_x2 is: 10489619.5220155\n",
            "lower bound is: 0 upper bound is: 0.145924 d is: 0.090181032 x1 is: 0.090181032 x2 is: 0.055742968000000004 f_x1 is: 10489619.5220155 f_x2 is: 1235033.450370205\n",
            "lower bound is: 0 upper bound is: 0.090181032 d is: 0.05573187777599999 x1 is: 0.055742968000000004 x2 is: 0.034449154224 f_x1 is: 1235033.450370205 f_x2 is: 120762.46908195192\n",
            "lower bound is: 0 upper bound is: 0.055742968000000004 d is: 0.034449154224 x1 is: 0.034449154224 x2 is: 0.021293813776000002 f_x1 is: 120762.46908195192 f_x2 is: 7444.194116932276\n",
            "lower bound is: 0 upper bound is: 0.034449154224 d is: 0.021289577310432 x1 is: 0.021293813776000002 x2 is: 0.013159576913568002 f_x1 is: 7444.194116932276 f_x2 is: 27.69586445988943\n",
            "lower bound is: 0 upper bound is: 0.021293813776000002 d is: 0.013159576913568002 x1 is: 0.013159576913568002 x2 is: 0.008134236862432 f_x1 is: 27.69586445988943 f_x2 is: 198.7788845366709\n",
            "lower bound is: 0.008134236862432 upper bound is: 0.021293813776000002 d is: 0.008132618532585024 x1 is: 0.016266855395017023 x2 is: 0.013159576913568002 f_x1 is: 837.7188158133678 f_x2 is: 27.69586445988943\n",
            "lower bound is: 0.008134236862432 upper bound is: 0.016266855395017023 d is: 0.0050259582531375436 x1 is: 0.013159576913568002 x2 is: 0.01124089714187948 f_x1 is: 27.69586445988943 f_x2 is: 24.27163529963723\n"
          ]
        }
      ]
    },
    {
      "cell_type": "markdown",
      "source": [
        "## newton method"
      ],
      "metadata": {
        "id": "IcO0sNVGmY1k"
      }
    },
    {
      "cell_type": "code",
      "source": [
        "def Newton_method(start, accuracy, f, max_iterations = 1000):\n",
        "  iterations = max_iterations\n",
        "  X = symbols('X')\n",
        "  first_derivative = diff(f, X)\n",
        "  second_derivative = diff(first_derivative, X)\n",
        "\n",
        "  f = lambdify(X, f)\n",
        "  first_derivative = lambdify(X, first_derivative)\n",
        "  second_derivative = lambdify(X, second_derivative)\n",
        "\n",
        "  while abs(first_derivative(start)) > accuracy and max_iterations > 0:\n",
        "    print('The current value of X is:', start, 'The value of the first derivative is:', first_derivative(start), 'The value of the second derivative is:', second_derivative(start), 'The value of the objective function is:', f(start))\n",
        "    start = start - (first_derivative(start) / second_derivative(start))\n",
        "    max_iterations -= 1\n",
        "\n",
        "  print('The final value of X is:', start, 'The value of the first derivative is:', first_derivative(start), 'The value of the second derivative is:', second_derivative(start), 'The value of the objective function is:', f(start))\n",
        "  return start, f(start), iterations - max_iterations"
      ],
      "metadata": {
        "id": "3fTFbmXtfUfy"
      },
      "execution_count": null,
      "outputs": []
    },
    {
      "cell_type": "code",
      "source": [
        "start_time = time.time()\n",
        "x, f_x, iters = Newton_method(0, 0.01, powell_1D_symbolic(), 1000)\n",
        "end_time = time.time()\n",
        "stats_powell['nm'] = [x, f_x, iters, end_time - start_time]"
      ],
      "metadata": {
        "colab": {
          "base_uri": "https://localhost:8080/"
        },
        "id": "R5IXTsL7naVj",
        "outputId": "07df4efa-7a6a-4295-fffc-901be89edffe"
      },
      "execution_count": null,
      "outputs": [
        {
          "output_type": "stream",
          "name": "stdout",
          "text": [
            "The current value of X is: 0 The value of the first derivative is: -210476.0000000006 The value of the second derivative is: 185894632.0000004 The value of the objective function is: 215.00000000000065\n",
            "The current value of X is: 0.0011322328016443216 The value of the first derivative is: -63596.181638323484 The value of the second derivative is: 80942324.20212047 The value of the objective function is: 71.05522031758062\n",
            "The current value of X is: 0.001917930300020053 The value of the first derivative is: -19777.02142612529 The value of the second derivative is: 34156129.96769494 The value of the objective function is: 40.709001742602695\n",
            "The current value of X is: 0.0024969485156326097 The value of the first derivative is: -6587.337188573811 The value of the second derivative is: 13334107.193130892 The value of the objective function is: 33.65801604858874\n",
            "The current value of X is: 0.002990970132015542 The value of the first derivative is: -2472.495412299766 The value of the second derivative is: 4730459.401852104 The value of the objective function is: 31.595121437800984\n",
            "The current value of X is: 0.0035136456698991814 The value of the first derivative is: -389.98629588282347 The value of the second derivative is: 4812039.167010583 The value of the objective function is: 30.845189625128604\n",
            "The current value of X is: 0.00359468954388849 The value of the first derivative is: 33.2454345346614 The value of the second derivative is: 5670308.654493323 The value of the objective function is: 30.830264027089637\n",
            "The current value of X is: 0.00358882647071904 The value of the first derivative is: 0.20493567740049912 The value of the second derivative is: 5600599.437230298 The value of the objective function is: 30.83016616579709\n",
            "The final value of X is: 0.0035887898789792277 The value of the first derivative is: 7.891660061432049e-06 The value of the second derivative is: 5600168.109480435 The value of the objective function is: 30.83016616204752\n"
          ]
        }
      ]
    },
    {
      "cell_type": "code",
      "source": [
        "start_time = time.time()\n",
        "x, f_x, iters = Newton_method(0, 0.01, rosenbrock_1D_symbolic(), 1000)\n",
        "end_time = time.time()\n",
        "stats_rosenbrock['nm'] = [x, f_x, iters, end_time - start_time]"
      ],
      "metadata": {
        "colab": {
          "base_uri": "https://localhost:8080/"
        },
        "id": "yENcXg9Hnyfz",
        "outputId": "06970d3b-1d33-477f-9da5-564f005ad521"
      },
      "execution_count": null,
      "outputs": [
        {
          "output_type": "stream",
          "name": "stdout",
          "text": [
            "The current value of X is: 0 The value of the first derivative is: -54227.35999999962 The value of the second derivative is: 81585556.79999986 The value of the objective function is: 24.19999999999971\n",
            "The current value of X is: 0.0006646686267390862 The value of the first derivative is: -7206.064691771777 The value of the second derivative is: 60284202.83003686 The value of the objective function is: 4.567782114503044\n",
            "The current value of X is: 0.00078420350243593 The value of the first derivative is: -215.17236649939605 The value of the second derivative is: 56696391.72597596 The value of the objective function is: 4.128505852308935\n",
            "The current value of X is: 0.0007879986710515866 The value of the first derivative is: -0.2138766089830142 The value of the second derivative is: 56583694.23686002 The value of the objective function is: 4.128097274021913\n",
            "The final value of X is: 0.000788002450879183 The value of the first derivative is: -2.1205858047324e-07 The value of the second derivative is: 56583582.03215389 The value of the objective function is: 4.128097273617706\n"
          ]
        }
      ]
    },
    {
      "cell_type": "markdown",
      "source": [
        "## quasi-newton (1D)"
      ],
      "metadata": {
        "id": "dDqtlkSbn9ug"
      }
    },
    {
      "cell_type": "code",
      "source": [
        "def decay(delta):\n",
        "  return 0.9 * delta"
      ],
      "metadata": {
        "id": "bo8nbUg6mgtD"
      },
      "execution_count": null,
      "outputs": []
    },
    {
      "cell_type": "code",
      "source": [
        "def Quasi_Newton_method(start, delta, accuracy, OF, max_iterations = 1000):\n",
        "  iterations = max_iterations\n",
        "  first_derivative = (OF(start + delta) - OF(start - delta)) / 2 * delta\n",
        "  second_derivative = (OF(start + delta) - 2 * OF(start) + OF(start - delta)) / delta**2\n",
        "  while abs(first_derivative) > accuracy and max_iterations > 0:\n",
        "    print('The current value of X is:', start, 'The delta is:', delta, 'The value of the first derivative is:', first_derivative, 'The value of the objective function is:', OF(start))\n",
        "    start = start - (first_derivative / (second_derivative + np.finfo(float).eps))\n",
        "    first_derivative = (OF(start + delta) - OF(start - delta)) / 2 * delta\n",
        "    second_derivative = (OF(start + delta) - 2 * OF(start) + OF(start - delta)) / delta**2\n",
        "    delta = decay(delta)\n",
        "    max_iterations -= 1\n",
        "\n",
        "  print('The final value of X is:', start, 'The delta is:', delta, 'The value of the first derivative is:', first_derivative, 'The value of the objective function is:', OF(start))\n",
        "  return start, OF(start), iterations - max_iterations"
      ],
      "metadata": {
        "id": "ftscotQ4lNpY"
      },
      "execution_count": null,
      "outputs": []
    },
    {
      "cell_type": "code",
      "source": [
        "start_time = time.time()\n",
        "x, f_x, iters = Quasi_Newton_method(0, 0.1, 0.01, powell_1D)\n",
        "end_time = time.time()\n",
        "stats_powell['qn'] = [x, f_x, iters, end_time - start_time]"
      ],
      "metadata": {
        "colab": {
          "base_uri": "https://localhost:8080/"
        },
        "id": "bOcp8gkUoHTl",
        "outputId": "d92f6b1b-0187-4cd3-87c7-477a54e41344"
      },
      "execution_count": null,
      "outputs": [
        {
          "output_type": "stream",
          "name": "stdout",
          "text": [
            "The current value of X is: 0 The delta is: 0.1 The value of the first derivative is: -1873161.5280000002 The value of the objective function is: 215.0\n",
            "The current value of X is: 6.461194239482988e-05 The delta is: 0.09000000000000001 The value of the first derivative is: -1835820.7353649857 The value of the objective function is: 201.78374245405985\n",
            "The current value of X is: 0.00012795155923877764 The delta is: 0.08100000000000002 The value of the first derivative is: -1180756.7637482174 The value of the objective function is: 189.5521556945974\n",
            "The current value of X is: 0.000178188175037515 The delta is: 0.07290000000000002 The value of the first derivative is: -762414.3172981654 The value of the objective function is: 180.34243227022137\n",
            "The current value of X is: 0.0002181775219883714 The delta is: 0.06561000000000002 The value of the first derivative is: -493859.3711264055 The value of the objective function is: 173.3122368378485\n",
            "The current value of X is: 0.00025010035679657103 The delta is: 0.05904900000000002 The value of the first derivative is: -320732.33149703935 The value of the objective function is: 167.8866796265469\n",
            "The current value of X is: 0.00027563935955725316 The delta is: 0.05314410000000002 The value of the first derivative is: -208740.59108114112 The value of the objective function is: 163.66286581034234\n",
            "The current value of X is: 0.000296104193684804 The delta is: 0.04782969000000002 The value of the first derivative is: -136092.9715771197 The value of the objective function is: 160.3518930249423\n",
            "The current value of X is: 0.00031252157476271514 The delta is: 0.043046721000000024 The value of the first derivative is: -88859.48794120898 The value of the objective function is: 157.7424683545122\n",
            "The current value of X is: 0.00032570123090138196 The delta is: 0.03874204890000002 The value of the first derivative is: -58091.806047317004 The value of the objective function is: 155.677421367879\n",
            "The current value of X is: 0.00033628493272109974 The delta is: 0.03486784401000002 The value of the first derivative is: -38018.67742135274 The value of the objective function is: 154.0381402240893\n",
            "The current value of X is: 0.00034478342182529 The delta is: 0.03138105960900001 The value of the first derivative is: -24905.735190483898 The value of the objective function is: 152.7340083404109\n",
            "The current value of X is: 0.0003516045473529552 The delta is: 0.028242953648100012 The value of the first derivative is: -16330.137324509802 The value of the objective function is: 151.69507618561536\n",
            "The current value of X is: 0.0003570749193268145 The delta is: 0.025418658283290013 The value of the first derivative is: -10716.510900132707 The value of the objective function is: 150.8668745978827\n",
            "The current value of X is: 0.0003614567163943474 The delta is: 0.022876792454961013 The value of the first derivative is: -7038.682206598909 The value of the objective function is: 150.2066763523516\n",
            "The current value of X is: 0.0003649608278115193 The delta is: 0.020589113209464913 The value of the first derivative is: -4627.229636810308 The value of the objective function is: 149.68075694984879\n",
            "The current value of X is: 0.00036775719210183967 The delta is: 0.01853020188851842 The value of the first derivative is: -3044.923690088506 The value of the objective function is: 149.2623578955531\n",
            "The current value of X is: 0.00036998297116679454 The delta is: 0.01667718169966658 The value of the first derivative is: -2005.8983468809324 The value of the objective function is: 148.9301526396847\n",
            "The current value of X is: 0.00037174903860657334 The delta is: 0.015009463529699923 The value of the first derivative is: -1323.0894146475366 The value of the objective function is: 148.66707819007692\n",
            "The current value of X is: 0.0003731451449019951 The delta is: 0.013508517176729932 The value of the first derivative is: -873.9952511290955 The value of the objective function is: 148.45943688608196\n",
            "The current value of X is: 0.0003742440368466689 The delta is: 0.01215766545905694 The value of the first derivative is: -578.3411940555417 The value of the objective function is: 148.2962006578038\n",
            "The current value of X is: 0.00037510474547267824 The delta is: 0.010941898913151246 The value of the first derivative is: -383.49218431167174 The value of the objective function is: 148.16846904353827\n",
            "The current value of X is: 0.0003757752097771667 The delta is: 0.009847709021836121 The value of the first derivative is: -254.91652515208528 The value of the objective function is: 148.06904528464617\n",
            "The current value of X is: 0.00037629436872537825 The delta is: 0.00886293811965251 The value of the first derivative is: -169.94670823548057 The value of the objective function is: 147.99210386677402\n",
            "The current value of X is: 0.00037669382824458657 The delta is: 0.007976644307687259 The value of the first derivative is: -113.69460298397841 The value of the objective function is: 147.93292918572672\n",
            "The current value of X is: 0.00037699919076120093 The delta is: 0.007178979876918534 The value of the first derivative is: -76.37555864953298 The value of the objective function is: 147.88770945779697\n",
            "The current value of X is: 0.00037723112007430717 The delta is: 0.006461081889226681 The value of the first derivative is: -51.55456910738833 The value of the objective function is: 147.8533732132709\n",
            "The current value of X is: 0.00037740620205813644 The delta is: 0.005814973700304013 The value of the first derivative is: -34.996245476179496 The value of the objective function is: 147.82745819987485\n",
            "The current value of X is: 0.00037753765036107673 The delta is: 0.005233476330273611 The value of the first derivative is: -23.910392920098218 The value of the objective function is: 147.80800463010428\n",
            "The current value of X is: 0.00037763589519331496 The delta is: 0.00471012869724625 The value of the first derivative is: -16.456897050066082 The value of the objective function is: 147.79346662426144\n",
            "The current value of X is: 0.0003777090826243209 The delta is: 0.004239115827521626 The value of the first derivative is: -11.42065074580558 The value of the objective function is: 147.78263746090116\n",
            "The current value of X is: 0.00037776350235775276 The delta is: 0.0038152042447694634 The value of the first derivative is: -7.998025845059979 The value of the objective function is: 147.77458576289126\n",
            "The current value of X is: 0.00037780395465985194 The delta is: 0.003433683820292517 The value of the first derivative is: -5.656543977659759 The value of the objective function is: 147.76860090301477\n",
            "The current value of X is: 0.0003778340625189846 The delta is: 0.0030903154382632653 The value of the first derivative is: -4.04260073151038 The value of the objective function is: 147.76414664361488\n",
            "The current value of X is: 0.00037785653306101794 The delta is: 0.002781283894436939 The value of the first derivative is: -2.9207479402091816 The value of the objective function is: 147.7608223611777\n",
            "The current value of X is: 0.00037787337202745266 The delta is: 0.002503155504993245 The value of the first derivative is: -2.133710076278399 The value of the objective function is: 147.75833125994308\n",
            "The current value of X is: 0.00037788605581925657 The delta is: 0.0022528399544939205 The value of the first derivative is: -1.5760298440355704 The value of the objective function is: 147.75645488888256\n",
            "The current value of X is: 0.0003778956664329179 The delta is: 0.0020275559590445286 The value of the first derivative is: -1.176677726567527 The value of the objective function is: 147.7550331626892\n",
            "The current value of X is: 0.0003779029950972844 The delta is: 0.0018248003631400759 The value of the first derivative is: -0.8875610538035765 The value of the objective function is: 147.75394902098907\n",
            "The current value of X is: 0.0003779086204098105 The delta is: 0.0016423203268260682 The value of the first derivative is: -0.6759188430182872 The value of the objective function is: 147.75311686432158\n",
            "The current value of X is: 0.00037791296633359235 The delta is: 0.0014780882941434613 The value of the first derivative is: -0.5192784735732994 The value of the objective function is: 147.7524739717449\n",
            "The current value of X is: 0.00037791634471011733 The delta is: 0.0013302794647291152 The value of the first derivative is: -0.4021032841113851 The value of the objective function is: 147.75197421035404\n",
            "The current value of X is: 0.0003779189861295457 The delta is: 0.0011972515182562037 The value of the first derivative is: -0.3135578057069257 The value of the objective function is: 147.75158346778358\n",
            "The current value of X is: 0.0003779210622033306 The delta is: 0.0010775263664305832 The value of the first derivative is: -0.24601295484060992 The value of the objective function is: 147.75127635695108\n",
            "The current value of X is: 0.0003779227015758848 The delta is: 0.000969773729787525 The value of the first derivative is: -0.1940421336014272 The value of the objective function is: 147.75103384719495\n",
            "The current value of X is: 0.0003779240014237482 The delta is: 0.0008727963568087724 The value of the first derivative is: -0.15374380887817327 The value of the objective function is: 147.75084156306136\n",
            "The current value of X is: 0.0003779250357251422 The delta is: 0.0007855167211278952 The value of the first derivative is: -0.12228185664520723 The value of the objective function is: 147.75068856091076\n",
            "The current value of X is: 0.0003779258612273367 The delta is: 0.0007069650490151057 The value of the first derivative is: -0.09757166858965745 The value of the objective function is: 147.75056644612312\n",
            "The current value of X is: 0.00037792652177511275 The delta is: 0.0006362685441135952 The value of the first derivative is: -0.07806423224944295 The value of the objective function is: 147.75046873276403\n",
            "The current value of X is: 0.0003779270514712527 The delta is: 0.0005726416897022357 The value of the first derivative is: -0.06259638635974582 The value of the objective function is: 147.75039037604165\n",
            "The current value of X is: 0.00037792747700201375 The delta is: 0.0005153775207320121 The value of the first derivative is: -0.05028602870125206 The value of the objective function is: 147.750327428292\n",
            "The current value of X is: 0.00037792781936262437 The delta is: 0.00046383976865881093 The value of the first derivative is: -0.040458060679775275 The value of the objective function is: 147.7502767837234\n",
            "The current value of X is: 0.00037792809514886245 The delta is: 0.00041745579179292984 The value of the first derivative is: -0.03259150547067507 The value of the objective function is: 147.75023598735135\n",
            "The current value of X is: 0.0003779283175323818 The delta is: 0.00037571021261363684 The value of the first derivative is: -0.02628133399101583 The value of the objective function is: 147.7502030907188\n",
            "The current value of X is: 0.0003779284970035626 The delta is: 0.00033813919135227316 The value of the first derivative is: -0.021210601529886845 The value of the objective function is: 147.75017654200545\n",
            "The current value of X is: 0.00037792864194191063 The delta is: 0.00030432527221704587 The value of the first derivative is: -0.017129884498449557 The value of the objective function is: 147.75015510164917\n",
            "The current value of X is: 0.0003779287590573434 The delta is: 0.00027389274499534127 The value of the first derivative is: -0.013841940382434241 The value of the objective function is: 147.75013777706735\n",
            "The current value of X is: 0.00037792885373392007 The delta is: 0.00024650347049580716 The value of the first derivative is: -0.011190145850610879 The value of the objective function is: 147.7501237718087\n",
            "The final value of X is: 0.00037792893029921145 The delta is: 0.00022185312344622646 The value of the first derivative is: -0.009049698194745423 The value of the objective function is: 147.75011244570612\n"
          ]
        }
      ]
    },
    {
      "cell_type": "code",
      "source": [
        "start_time = time.time()\n",
        "x, f_x, iters = Quasi_Newton_method(0, 0.1, 0.01, rosenbrock_1D)\n",
        "end_time = time.time()\n",
        "stats_rosenbrock['qn'] = [x, f_x, iters, end_time - start_time]"
      ],
      "metadata": {
        "colab": {
          "base_uri": "https://localhost:8080/"
        },
        "id": "KH4dDLa-oOaW",
        "outputId": "86b52ef3-b030-4a1d-b9e9-b766e408e2ed"
      },
      "execution_count": null,
      "outputs": [
        {
          "output_type": "stream",
          "name": "stdout",
          "text": [
            "The current value of X is: 0 The delta is: 0.1 The value of the first derivative is: -563399.9831679993 The value of the objective function is: 24.199999999999996\n",
            "The current value of X is: 0.00012795846599204805 The delta is: 0.09000000000000001 The value of the first derivative is: -552239.1257870372 The value of the objective function is: 17.91733084451813\n",
            "The current value of X is: 0.00025350410372356076 The delta is: 0.08100000000000002 The value of the first derivative is: -355196.26143281773 The value of the objective function is: 12.983857975022133\n",
            "The current value of X is: 0.0003529005874535126 The delta is: 0.07290000000000002 The value of the first derivative is: -229342.74160884862 The value of the objective function is: 9.899393732698382\n",
            "The current value of X is: 0.0004318409831964119 The delta is: 0.06561000000000002 The value of the first derivative is: -148543.78209267178 The value of the objective function is: 7.943942052743596\n",
            "The current value of X is: 0.0004946752406471038 The delta is: 0.05904900000000002 The value of the first derivative is: -96453.33396778714 The value of the objective function is: 6.688812815251946\n",
            "The current value of X is: 0.0005447616796361996 The delta is: 0.05314410000000002 The value of the first derivative is: -62757.2929552637 The value of the objective function is: 5.873970577047492\n",
            "The current value of X is: 0.0005847156825806567 The delta is: 0.04782969000000002 The value of the first derivative is: -40900.33060087322 The value of the objective function is: 5.339202753838428\n",
            "The current value of X is: 0.0006165889374284539 The delta is: 0.043046721000000024 The value of the first derivative is: -26691.26947526871 The value of the objective function is: 4.984488539405719\n",
            "The current value of X is: 0.0006420007919627338 The delta is: 0.03874204890000002 The value of the first derivative is: -17437.408487208162 The value of the objective function is: 4.746674860918625\n",
            "The current value of X is: 0.0006622359522252066 The delta is: 0.03486784401000002 The value of the first derivative is: -11401.888522219011 The value of the objective function is: 4.585490575293855\n",
            "The current value of X is: 0.0006783181045277328 The delta is: 0.03138105960900001 The value of the first derivative is: -7460.757474186277 The value of the objective function is: 4.475025971361134\n",
            "The current value of X is: 0.0006910660273687328 The delta is: 0.028242953648100012 The value of the first derivative is: -4884.763900373872 The value of the objective function is: 4.39847157810236\n",
            "The current value of X is: 0.0007011367720078302 The delta is: 0.025418658283290013 The value of the first derivative is: -3199.731455971826 The value of the objective function is: 4.344832311311762\n",
            "The current value of X is: 0.0007090591562240063 The delta is: 0.022876792454961013 The value of the first derivative is: -2096.800302268051 The value of the objective function is: 4.306855417476281\n",
            "The current value of X is: 0.0007152599054895296 The delta is: 0.020589113209464913 The value of the first derivative is: -1374.5052687062393 The value of the objective function is: 4.279713088789772\n",
            "The current value of X is: 0.0007200841459598448 The delta is: 0.01853020188851842 The value of the first derivative is: -901.2815023318209 The value of the objective function is: 4.260159023916087\n",
            "The current value of X is: 0.0007238115133490548 The delta is: 0.01667718169966658 The value of the first derivative is: -591.1312362678808 The value of the objective function is: 4.245985206872511\n",
            "The current value of X is: 0.0007266688322714204 The delta is: 0.015009463529699923 The value of the first derivative is: -387.7988999882677 The value of the objective function is: 4.235670271874407\n",
            "The current value of X is: 0.0007288401029249447 The delta is: 0.013508517176729932 The value of the first derivative is: -254.4620071873738 The value of the objective function is: 4.228150906616804\n",
            "The current value of X is: 0.0007304743784341946 The delta is: 0.01215766545905694 The value of the first derivative is: -167.00596873296257 The value of the objective function is: 4.222672680278281\n",
            "The current value of X is: 0.0007316920054787168 The delta is: 0.010941898913151246 The value of the first derivative is: -109.63193569214548 The value of the objective function is: 4.21869232595065\n",
            "The current value of X is: 0.0007325896156963816 The delta is: 0.009847709021836121 The value of the first derivative is: -71.98568700691476 The value of the objective function is: 4.21581340280729\n",
            "The current value of X is: 0.0007332441823338344 The delta is: 0.00886293811965251 The value of the first derivative is: -47.27940811125425 The value of the objective function is: 4.213743583641994\n",
            "The current value of X is: 0.0007337163874888222 The delta is: 0.007976644307687259 The value of the first derivative is: -31.062251962653548 The value of the objective function is: 4.212265901754598\n",
            "The current value of X is: 0.0007340534781121726 The delta is: 0.007178979876918534 The value of the first derivative is: -20.415180381935578 The value of the objective function is: 4.211218975926216\n",
            "The current value of X is: 0.0007342917272939781 The delta is: 0.006461081889226681 The value of the first derivative is: -13.423454603634207 The value of the objective function is: 4.21048301726901\n",
            "The current value of X is: 0.0007344585673519711 The delta is: 0.005814973700304013 The value of the first derivative is: -8.830918189614042 The value of the objective function is: 4.209969609733656\n",
            "The current value of X is: 0.0007345744276030787 The delta is: 0.005233476330273611 The value of the first derivative is: -5.813362020137423 The value of the objective function is: 4.209614032315411\n",
            "The current value of X is: 0.0007346542931421172 The delta is: 0.00471012869724625 The value of the first derivative is: -3.8299213073639695 The value of the objective function is: 4.20936937809227\n",
            "The current value of X is: 0.0007347089980006649 The delta is: 0.004239115827521626 The value of the first derivative is: -2.5256202668005217 The value of the objective function is: 4.209202013380353\n",
            "The current value of X is: 0.0007347462709487437 The delta is: 0.0038152042447694634 The value of the first derivative is: -1.6674504685935163 The value of the objective function is: 4.20908807978511\n",
            "The current value of X is: 0.0007347715593113926 The delta is: 0.003433683820292517 The value of the first derivative is: -1.1024389190578212 The value of the objective function is: 4.209010825930368\n",
            "The current value of X is: 0.0007347886616652237 The delta is: 0.0030903154382632653 The value of the first derivative is: -0.7301381700484604 The value of the objective function is: 4.208958600741498\n",
            "The current value of X is: 0.0007348002025054058 The delta is: 0.002781283894436939 The value of the first derivative is: -0.4845763686143739 The value of the objective function is: 4.208923368274007\n",
            "The current value of X is: 0.0007348079809668207 The delta is: 0.002503155504993245 The value of the first derivative is: -0.3224130956955912 The value of the objective function is: 4.208899626159706\n",
            "The current value of X is: 0.0007348132223615286 The delta is: 0.0022528399544939205 The value of the first derivative is: -0.2151666237351555 The value of the objective function is: 4.208883629891712\n",
            "The current value of X is: 0.0007348167567782876 The delta is: 0.0020275559590445286 The value of the first derivative is: -0.14411252438504013 The value of the objective function is: 4.2088728440699255\n",
            "The current value of X is: 0.0007348191442105909 The delta is: 0.0018248003631400759 The value of the first derivative is: -0.09693514887608942 The value of the objective function is: 4.208865558860589\n",
            "The current value of X is: 0.0007348207612465731 The delta is: 0.0016423203268260682 The value of the first derivative is: -0.06552939180642592 The value of the objective function is: 4.20886062469094\n",
            "The current value of X is: 0.0007348218605743129 The delta is: 0.0014780882941434613 The value of the first derivative is: -0.044557367535885926 The value of the objective function is: 4.2088572703258045\n",
            "The current value of X is: 0.0007348226115180099 The delta is: 0.0013302794647291152 The value of the first derivative is: -0.03050057126434068 The value of the objective function is: 4.208854979021003\n",
            "The current value of X is: 0.000734823127482676 The delta is: 0.0011972515182562037 The value of the first derivative is: -0.021037286184069044 The value of the objective function is: 4.208853404711175\n",
            "The current value of X is: 0.0007348234844444407 The delta is: 0.0010775263664305832 The value of the first derivative is: -0.014633516762161904 The value of the objective function is: 4.208852315559584\n",
            "The current value of X is: 0.0007348237333604487 The delta is: 0.000969773729787525 The value of the first derivative is: -0.010274125458105106 The value of the objective function is: 4.208851556078521\n",
            "The final value of X is: 0.0007348239084738347 The delta is: 0.0008727963568087724 The value of the first derivative is: -0.007286046103762178 The value of the objective function is: 4.208851021782781\n"
          ]
        }
      ]
    },
    {
      "cell_type": "markdown",
      "source": [
        "## secant method"
      ],
      "metadata": {
        "id": "rAEh56BdoYJB"
      }
    },
    {
      "cell_type": "code",
      "source": [
        "def secant_method(start, delta, accuracy, f, max_iterations = 1000):\n",
        "  iterations = max_iterations\n",
        "  X = symbols('X')\n",
        "  first_derivative = diff(f, X)\n",
        "\n",
        "  f = lambdify(X, f)\n",
        "  first_derivative = lambdify(X, first_derivative)\n",
        "\n",
        "  while abs(first_derivative(start)) > accuracy and max_iterations > 0:\n",
        "    print('The current value of X is:', start, 'The delta is:', delta, 'The value of the first derivative is:', first_derivative(start), 'The value of the objective function is:', f(start))\n",
        "    b = start + delta\n",
        "    start = start - first_derivative(start) * (b - start) / (first_derivative(b) - first_derivative(start))\n",
        "    max_iterations -= 1\n",
        "    delta = decay(delta)\n",
        "\n",
        "  print('The final value of X is:', start, 'The delta is:', delta, 'The value of the first derivative is:', first_derivative(start), 'The value of the objective function is:', f(start))\n",
        "  return start, f(start), iterations - max_iterations"
      ],
      "metadata": {
        "id": "ZYY8imvPobSt"
      },
      "execution_count": null,
      "outputs": []
    },
    {
      "cell_type": "code",
      "source": [
        "start_time = time.time()\n",
        "x, f_x, iters = secant_method(0, 0.1, 0.01, powell_1D_symbolic())\n",
        "end_time = time.time()\n",
        "stats_powell['sm'] = [x, f_x, iters, end_time - start_time]"
      ],
      "metadata": {
        "colab": {
          "base_uri": "https://localhost:8080/"
        },
        "id": "Ne7VMlnovyPT",
        "outputId": "62a01667-8034-4078-fa37-f211f49646a3"
      },
      "execution_count": null,
      "outputs": [
        {
          "output_type": "stream",
          "name": "stdout",
          "text": [
            "The current value of X is: 0 The delta is: 0.1 The value of the first derivative is: -210476.0000000006 The value of the objective function is: 215.00000000000065\n",
            "The current value of X is: 4.03343374605547e-06 The delta is: 0.09000000000000001 The value of the first derivative is: -209727.119123592 The value of the objective function is: 214.15256989306158\n",
            "The current value of X is: 9.05034275188499e-06 The delta is: 0.08100000000000002 The value of the first derivative is: -208798.18326906225 The value of the objective function is: 213.10271939262628\n",
            "The current value of X is: 1.5292650988944732e-05 The delta is: 0.07290000000000002 The value of the first derivative is: -207646.28491883396 The value of the objective function is: 211.8029342926572\n",
            "The current value of X is: 2.3061569944150084e-05 The delta is: 0.06561000000000002 The value of the first derivative is: -206218.76014412916 The value of the objective function is: 210.19529665672005\n",
            "The current value of X is: 3.273143141164508e-05 The delta is: 0.05904900000000002 The value of the first derivative is: -204451.33709254506 The value of the objective function is: 208.2097435684768\n",
            "The current value of X is: 4.476610443935244e-05 The delta is: 0.05314410000000002 The value of the first derivative is: -202266.1928239 The value of the objective function is: 205.76240343680314\n",
            "The current value of X is: 5.973797412034093e-05 The delta is: 0.04782969000000002 The value of the first derivative is: -199570.11616774424 The value of the objective function is: 202.75431390279869\n",
            "The current value of X is: 7.834900802360804e-05 The delta is: 0.043046721000000024 The value of the first derivative is: -196253.13744722676 The value of the objective function is: 199.0710329314932\n",
            "The current value of X is: 0.00010145261990537001 The delta is: 0.03874204890000002 The value of the first derivative is: -192188.2299050429 The value of the objective function is: 194.58394581387955\n",
            "The current value of X is: 0.00013007367441934467 The delta is: 0.03486784401000002 The value of the first derivative is: -187233.02499718702 The value of the objective function is: 189.15443912370725\n",
            "The current value of X is: 0.0001654218516238628 The delta is: 0.03138105960900001 The value of the first derivative is: -181234.89734155594 The value of the objective function is: 182.6424988179459\n",
            "The current value of X is: 0.00020889056190090895 The delta is: 0.028242953648100012 The value of the first derivative is: -174041.17612041283 The value of the objective function is: 174.92152658533544\n",
            "The current value of X is: 0.0002620298088416085 The delta is: 0.025418658283290013 The value of the first derivative is: -165516.4009713731 The value of the objective function is: 165.90091163581877\n",
            "The current value of X is: 0.000326477680792734 The delta is: 0.022876792454961013 The value of the first derivative is: -155568.0249315623 The value of the objective function is: 155.55658504121442\n",
            "The current value of X is: 0.00040383367328244253 The delta is: 0.020589113209464913 The value of the first derivative is: -144180.13003637246 The value of the objective function is: 143.96677064955097\n",
            "The current value of X is: 0.0004954617955098869 The delta is: 0.01853020188851842 The value of the first derivative is: -131450.96120434982 The value of the objective function is: 131.34519146947954\n",
            "The current value of X is: 0.0006022276461531857 The delta is: 0.01667718169966658 The value of the first derivative is: -117624.56482202548 The value of the objective function is: 118.05827277014512\n",
            "The current value of X is: 0.0007242045677884892 The delta is: 0.015009463529699923 The value of the first derivative is: -103101.60217631087 The value of the objective function is: 104.61003469405208\n",
            "The current value of X is: 0.000860423885779811 The delta is: 0.013508517176729932 The value of the first derivative is: -88414.01420502583 The value of the objective function is: 91.58384945064714\n",
            "The current value of X is: 0.0010087718826504027 The delta is: 0.01215766545905694 The value of the first derivative is: -74157.55631372401 The value of the objective function is: 79.54701937216518\n",
            "The current value of X is: 0.0011661199274200804 The delta is: 0.010941898913151246 The value of the first derivative is: -60895.04171993819 The value of the objective function is: 68.94613068276723\n",
            "The current value of X is: 0.0013286980685088216 The delta is: 0.009847709021836121 The value of the first derivative is: -49061.43064214119 The value of the objective function is: 60.03263225751811\n",
            "The current value of X is: 0.0014926166055660025 The delta is: 0.00886293811965251 The value of the first derivative is: -38904.94381120995 The value of the objective function is: 52.846279961765845\n",
            "The current value of X is: 0.0016543732504791177 The delta is: 0.007976644307687259 The value of the first derivative is: -30481.104197837474 The value of the objective function is: 47.254864898786536\n",
            "The current value of X is: 0.0018112036365041146 The delta is: 0.007178979876918534 The value of the first derivative is: -23691.196442999688 The value of the objective function is: 43.02376693749418\n",
            "The current value of X is: 0.0019612196368535085 The delta is: 0.006461081889226681 The value of the first derivative is: -18341.02920780945 The value of the objective function is: 39.88425487313063\n",
            "The current value of X is: 0.002103367873717681 The delta is: 0.005814973700304013 The value of the first derivative is: -14196.81027375872 The value of the objective function is: 37.58171313419898\n",
            "The current value of X is: 0.002237283016194404 The delta is: 0.005233476330273611 The value of the first derivative is: -11025.590027802526 The value of the objective function is: 35.9003359947766\n",
            "The current value of X is: 0.002363106121975155 The delta is: 0.00471012869724625 The value of the first derivative is: -8618.283454688473 The value of the objective function is: 34.66994659267179\n",
            "The current value of X is: 0.0024813120193477494 The delta is: 0.004239115827521626 The value of the first derivative is: -6799.0307737850035 The value of the objective function is: 33.76266564025549\n",
            "The current value of X is: 0.002592563448213479 The delta is: 0.0038152042447694634 The value of the first derivative is: -5425.998794351129 The value of the objective function is: 33.085459099219776\n",
            "The current value of X is: 0.0026975924916024466 The delta is: 0.003433683820292517 The value of the first derivative is: -4387.816699586319 The value of the objective function is: 32.57210271940485\n",
            "The current value of X is: 0.0027971019102146014 The delta is: 0.0030903154382632653 The value of the first derivative is: -3598.3857200680504 The value of the objective function is: 32.17617196303989\n",
            "The current value of X is: 0.0028916777513504437 The delta is: 0.002781283894436939 The value of the first derivative is: -2991.5942955724167 The value of the objective function is: 31.86552849916197\n",
            "The current value of X is: 0.0029817080503860894 The delta is: 0.002503155504993245 The value of the first derivative is: -2516.694667205402 The value of the objective function is: 31.618225982295506\n",
            "The current value of X is: 0.00306730973691465 The delta is: 0.0022528399544939205 The value of the first derivative is: -2134.678397524178 The value of the objective function is: 31.419546726717734\n",
            "The current value of X is: 0.0031482760532150463 The delta is: 0.0020275559590445286 The value of the first derivative is: -1815.7765973621845 The value of the objective function is: 31.259833879087633\n",
            "The current value of X is: 0.003224066656331256 The delta is: 0.0018248003631400759 The value of the first derivative is: -1538.0487713095754 The value of the objective function is: 31.13281693130213\n",
            "The current value of X is: 0.0032938652017436014 The delta is: 0.0016423203268260682 The value of the first derivative is: -1286.7960225552033 The value of the objective function is: 31.03422095798879\n",
            "The current value of X is: 0.0033567165897952682 The delta is: 0.0014780882941434613 The value of the first derivative is: -1054.245783095732 The value of the objective function is: 30.96059666943073\n",
            "The current value of X is: 0.0034117270417295875 The delta is: 0.0013302794647291152 The value of the first derivative is: -838.7942028416182 The value of the objective function is: 30.908462756606802\n",
            "The current value of X is: 0.003458277628824937 The delta is: 0.0011972515182562037 The value of the first derivative is: -643.3115804379268 The value of the objective function is: 30.873911912683212\n",
            "The current value of X is: 0.0034961874939104572 The delta is: 0.0010775263664305832 The value of the first derivative is: -472.62595293762934 The value of the objective function is: 30.852723384368907\n",
            "The current value of X is: 0.0035257791159184378 The delta is: 0.000969773729787525 The value of the first derivative is: -330.9129461495704 The value of the objective function is: 30.840814729965924\n",
            "The current value of X is: 0.003547835093996494 The delta is: 0.0008727963568087724 The value of the first derivative is: -219.86433180873064 The value of the objective function is: 30.834731831794947\n",
            "The current value of X is: 0.0035634715320033597 The delta is: 0.0007855167211278952 The value of the first derivative is: -138.10266579657764 The value of the objective function is: 30.831929777123207\n",
            "The current value of X is: 0.0035739710255041344 The delta is: 0.0007069650490151057 The value of the first derivative is: -81.71261363035228 The value of the objective function is: 30.83077473257758\n",
            "The current value of X is: 0.003580617538198966 The delta is: 0.0006362685441135952 The value of the first derivative is: -45.376010670675896 The value of the objective function is: 30.830352105818747\n",
            "The current value of X is: 0.0035845642286912254 The delta is: 0.0005726416897022357 The value of the first derivative is: -23.55954428114819 The value of the objective function is: 30.83021601288321\n",
            "The current value of X is: 0.0035867511684396117 The delta is: 0.0005153775207320121 The value of the first derivative is: -11.392667405980319 The value of the objective function is: 30.83017778351328\n",
            "The current value of X is: 0.0035878763015715436 The delta is: 0.00046383976865881093 The value of the first derivative is: -5.111264735885925 The value of the objective function is: 30.830168497559868\n",
            "The current value of X is: 0.003588411222271459 The delta is: 0.00041745579179292984 The value of the first derivative is: -2.119688629423763 The value of the objective function is: 30.830166563416483\n",
            "The current value of X is: 0.0035886452556630204 The delta is: 0.00037571021261363684 The value of the first derivative is: -0.8097837418390554 The value of the objective function is: 30.830166220606728\n",
            "The current value of X is: 0.0035887391439039145 The delta is: 0.00033813919135227316 The value of the first derivative is: -0.28410188982343243 The value of the objective function is: 30.83016616925442\n",
            "The current value of X is: 0.003588773577200281 The delta is: 0.00030432527221704587 The value of the first derivative is: -0.0912832447738765 The value of the objective function is: 30.8301661627915\n",
            "The current value of X is: 0.00358878509272612 The delta is: 0.00027389274499534127 The value of the first derivative is: -0.026795795352882124 The value of the objective function is: 30.83016616211163\n",
            "The final value of X is: 0.0035887885970740108 The delta is: 0.00024650347049580716 The value of the first derivative is: -0.007170983371906914 The value of the objective function is: 30.83016616205211\n"
          ]
        }
      ]
    },
    {
      "cell_type": "code",
      "source": [
        "start_time = time.time()\n",
        "x, f_x, iters = secant_method(0, 0.1, 0.01, rosenbrock_1D_symbolic())\n",
        "end_time = time.time()\n",
        "stats_rosenbrock['sm'] = [x, f_x, iters, end_time - start_time]"
      ],
      "metadata": {
        "colab": {
          "base_uri": "https://localhost:8080/"
        },
        "id": "-mgdtSalwJz0",
        "outputId": "4668cd7e-6865-4b5d-dadd-a10d91c2a997"
      },
      "execution_count": null,
      "outputs": [
        {
          "output_type": "stream",
          "name": "stdout",
          "text": [
            "The current value of X is: 0 The delta is: 0.1 The value of the first derivative is: -54227.35999999962 The value of the objective function is: 24.19999999999971\n",
            "The current value of X is: 7.707322439482096e-06 The delta is: 0.09000000000000001 The value of the first derivative is: -53599.556471680226 The value of the objective function is: 23.784472881270627\n",
            "The current value of X is: 1.734045270532648e-05 The delta is: 0.08100000000000002 The value of the first derivative is: -52817.702396895875 The value of the objective function is: 23.27190973359502\n",
            "The current value of X is: 2.9378821849047735e-05 The delta is: 0.07290000000000002 The value of the first derivative is: -51845.024876360934 The value of the objective function is: 22.64193035261964\n",
            "The current value of X is: 4.4413673154382465e-05 The delta is: 0.06561000000000002 The value of the first derivative is: -50637.07838776545 The value of the objective function is: 21.871538270997316\n",
            "The current value of X is: 6.316661741271774e-05 The delta is: 0.05904900000000002 The value of the first derivative is: -49141.032948929154 The value of the objective function is: 20.935989997608868\n",
            "The current value of X is: 8.650476192624756e-05 The delta is: 0.05314410000000002 The value of the first derivative is: -47295.618538631956 The value of the objective function is: 19.810699106121845\n",
            "The current value of X is: 0.00011544570195851579 The delta is: 0.04782969000000002 The value of the first derivative is: -45032.37645087016 The value of the objective function is: 18.474736784423747\n",
            "The current value of X is: 0.0001511404422351093 The delta is: 0.043046721000000024 The value of the first derivative is: -42279.22695319778 The value of the objective function is: 16.9165796529922\n",
            "The current value of X is: 0.00019481440504669667 The delta is: 0.03874204890000002 The value of the first derivative is: -38967.78632647875 The value of the objective function is: 15.14261835022204\n",
            "The current value of X is: 0.00024763589152351615 The delta is: 0.03486784401000002 The value of the first derivative is: -35046.21574260859 The value of the objective function is: 13.188254219616102\n",
            "The current value of X is: 0.00031046924570174976 The delta is: 0.03138105960900001 The value of the first derivative is: -30499.32392174797 The value of the objective function is: 11.129699385756783\n",
            "The current value of X is: 0.0003834622642801921 The delta is: 0.028242953648100012 The value of the first derivative is: -25376.578471625526 The value of the objective function is: 9.091460175336078\n",
            "The current value of X is: 0.00046542772570943577 The delta is: 0.025418658283290013 The value of the first derivative is: -19825.878234599724 The value of the objective function is: 7.240388809107387\n",
            "The current value of X is: 0.000553032578559612 The delta is: 0.022876792454961013 The value of the first derivative is: -14126.119726286934 The value of the objective function is: 5.75495310283841\n",
            "The current value of X is: 0.0006399445798809133 The delta is: 0.020589113209464913 The value of the first derivative is: -8705.815627736965 The value of the objective function is: 4.764446878941921\n",
            "The current value of X is: 0.0007163683018485583 The delta is: 0.01853020188851842 The value of the first derivative is: -4129.798343337603 The value of the objective function is: 4.275099556451796\n",
            "The current value of X is: 0.0007699931900726606 The delta is: 0.01667718169966658 The value of the first derivative is: -1023.8474751560921 The value of the objective function is: 4.137302169742172\n",
            "The current value of X is: 0.0007908076444242791 The delta is: 0.015009463529699923 The value of the first derivative is: 158.611120157174 The value of the objective function is: 4.128319795655983\n",
            "The current value of X is: 0.0007852500000136802 The delta is: 0.013508517176729932 The value of the first derivative is: -155.85599462883908 The value of the objective function is: 4.128311715005085\n",
            "The current value of X is: 0.0007965587341137589 The delta is: 0.01215766545905694 The value of the first derivative is: 483.05907158751404 The value of the objective function is: 4.130165417153447\n",
            "The current value of X is: 0.0006726002380841509 The delta is: 0.010941898913151246 The value of the first derivative is: -6728.867263787887 The value of the objective function is: 4.51252014240703\n",
            "The current value of X is: -0.0024428406891438288 The delta is: 0.009847709021836121 The value of the first derivative is: -366892.11034232454 The value of the objective function is: 489.8439569094767\n",
            "The current value of X is: 0.008126738357119074 The delta is: 0.00886293811965251 The value of the first derivative is: -42523.95533079389 The value of the objective function is: 199.0983580095242\n",
            "The current value of X is: 0.008636845288147151 The delta is: 0.007976644307687259 The value of the first derivative is: -52351.08838768413 The value of the objective function is: 174.79292329349212\n",
            "The current value of X is: 0.009273340912361738 The delta is: 0.007178979876918534 The value of the first derivative is: -60513.39373900653 The value of the objective function is: 138.60185799442402\n",
            "The current value of X is: 0.009966372647036129 The delta is: 0.006461081889226681 The value of the first derivative is: -62759.72844130073 The value of the objective function is: 95.43878917480667\n",
            "The current value of X is: 0.010616784850414307 The delta is: 0.005814973700304013 The value of the first derivative is: -57074.849012261555 The value of the objective function is: 56.018504028807634\n",
            "The current value of X is: 0.01115318391193743 The delta is: 0.005233476330273611 The value of the first derivative is: -45674.52470434314 The value of the objective function is: 28.16954606952045\n",
            "The current value of X is: 0.011553472000491729 The delta is: 0.00471012869724625 The value of the first derivative is: -32699.527032070593 The value of the objective function is: 12.34927243010725\n",
            "The current value of X is: 0.011830009465019317 The delta is: 0.004239115827521626 The value of the first derivative is: -21309.423841620188 The value of the objective function is: 4.834190892186762\n",
            "The current value of X is: 0.012009210417234831 The delta is: 0.0038152042447694634 The value of the first derivative is: -12809.296297677542 The value of the objective function is: 1.7636906103614867\n",
            "The current value of X is: 0.012118770831807534 The delta is: 0.003433683820292517 The value of the first derivative is: -7163.470647591928 The value of the objective function is: 0.6664232888814358\n",
            "The current value of X is: 0.012182042821600186 The delta is: 0.0030903154382632653 The value of the first derivative is: -3744.4385501333877 The value of the objective function is: 0.3207235913421168\n",
            "The current value of X is: 0.012216507237616624 The delta is: 0.002781283894436939 The value of the first derivative is: -1832.6495848557388 The value of the objective function is: 0.22451744606541307\n",
            "The current value of X is: 0.01223416277414596 The delta is: 0.002503155504993245 The value of the first derivative is: -839.676230516479 The value of the objective function is: 0.20091318602084035\n",
            "The current value of X is: 0.012242639712501478 The delta is: 0.0022528399544939205 The value of the first derivative is: -359.63608298665486 The value of the objective function is: 0.1958284304769485\n",
            "The current value of X is: 0.012246440843417646 The delta is: 0.0020275559590445286 The value of the first derivative is: -143.6887974995385 The value of the objective function is: 0.19487169255151546\n",
            "The current value of X is: 0.01224802742019459 The delta is: 0.0018248003631400759 The value of the first derivative is: -53.426197799404804 The value of the objective function is: 0.1947153136170334\n",
            "The current value of X is: 0.012248642005625442 The delta is: 0.0016423203268260682 The value of the first derivative is: -18.44144524083447 The value of the objective function is: 0.19469322863844796\n",
            "The current value of X is: 0.01224886235774379 The delta is: 0.0014780882941434613 The value of the first derivative is: -5.895352162240783 The value of the objective function is: 0.1946905472794949\n",
            "The current value of X is: 0.012248935308606278 The delta is: 0.0013302794647291152 The value of the first derivative is: -1.7414622717436714 The value of the objective function is: 0.19469026872243267\n",
            "The current value of X is: 0.012248957561484006 The delta is: 0.0011972515182562037 The value of the first derivative is: -0.47433122723293764 The value of the objective function is: 0.19469024406851446\n",
            "The current value of X is: 0.012248963803559786 The delta is: 0.0010775263664305832 The value of the first derivative is: -0.11889014805808529 The value of the objective function is: 0.1946902422170475\n",
            "The current value of X is: 0.012248965410761575 The delta is: 0.000969773729787525 The value of the first derivative is: -0.027371440235356204 The value of the objective function is: 0.1946902420995115\n",
            "The final value of X is: 0.012248965789972092 The delta is: 0.0008727963568087724 The value of the first derivative is: -0.005778087888074879 The value of the objective function is: 0.19469024209322616\n"
          ]
        }
      ]
    },
    {
      "cell_type": "markdown",
      "source": [
        "# 1-D Minimization results"
      ],
      "metadata": {
        "id": "MZ_kChWD08oi"
      }
    },
    {
      "cell_type": "markdown",
      "source": [
        "## powell quartic function"
      ],
      "metadata": {
        "id": "vhWZnJUJ2mr5"
      }
    },
    {
      "cell_type": "code",
      "source": [
        "for key, value in stats_powell.items():\n",
        "  print(key)\n",
        "  print('The optimal solution', value[0])\n",
        "  print('The optimal value', value[1])\n",
        "  print('The number of iterations', value[2])\n",
        "  print('The time taken', value[3])\n",
        "  print()"
      ],
      "metadata": {
        "colab": {
          "base_uri": "https://localhost:8080/"
        },
        "id": "Ti_N8MXI2hJI",
        "outputId": "bf3a853b-ad7e-45d6-e614-343bfd9a77ae"
      },
      "execution_count": null,
      "outputs": [
        {
          "output_type": "stream",
          "name": "stdout",
          "text": [
            "fib\n",
            "The optimal solution 0.006944444444444444\n",
            "The optimal value 319.21036534541224\n",
            "The number of iterations 10\n",
            "The time taken 0.05394601821899414\n",
            "\n",
            "gs\n",
            "The optimal solution 0.0031072784814490245\n",
            "The optimal value 31.337481197359658\n",
            "The number of iterations 11\n",
            "The time taken 0.004345893859863281\n",
            "\n",
            "nm\n",
            "The optimal solution 0.0035887898789792277\n",
            "The optimal value 30.83016616204752\n",
            "The number of iterations 8\n",
            "The time taken 0.6275568008422852\n",
            "\n",
            "qn\n",
            "The optimal solution 0.00037792893029921145\n",
            "The optimal value 147.75011244570612\n",
            "The number of iterations 58\n",
            "The time taken 0.07702398300170898\n",
            "\n",
            "sm\n",
            "The optimal solution 0.0035887885970740108\n",
            "The optimal value 30.83016616205211\n",
            "The number of iterations 57\n",
            "The time taken 0.27413415908813477\n",
            "\n"
          ]
        }
      ]
    },
    {
      "cell_type": "markdown",
      "source": [
        "## Rosenbrock's parabolic valley function"
      ],
      "metadata": {
        "id": "b5V3uWJi2sKN"
      }
    },
    {
      "cell_type": "code",
      "source": [
        "for key, value in stats_rosenbrock.items():\n",
        "  print(key)\n",
        "  print('The optimal solution', value[0])\n",
        "  print('The optimal value', value[1])\n",
        "  print('The number of iterations', value[2])\n",
        "  print('The time taken', value[3])\n",
        "  print()"
      ],
      "metadata": {
        "colab": {
          "base_uri": "https://localhost:8080/"
        },
        "id": "OXf_Wl3g3Rwz",
        "outputId": "c05eda60-ecd7-4895-a11c-e2cece43f8b9"
      },
      "execution_count": null,
      "outputs": [
        {
          "output_type": "stream",
          "name": "stdout",
          "text": [
            "fib\n",
            "The optimal solution 0.013888888888888886\n",
            "The optimal value 100.1933505753687\n",
            "The number of iterations 10\n",
            "The time taken 0.004835605621337891\n",
            "\n",
            "gs\n",
            "The optimal solution 0.01124089714187948\n",
            "The optimal value 24.27163529963723\n",
            "The number of iterations 11\n",
            "The time taken 0.009775638580322266\n",
            "\n",
            "nm\n",
            "The optimal solution 0.000788002450879183\n",
            "The optimal value 4.128097273617706\n",
            "The number of iterations 4\n",
            "The time taken 0.07359957695007324\n",
            "\n",
            "qn\n",
            "The optimal solution 0.0007348239084738347\n",
            "The optimal value 4.208851021782781\n",
            "The number of iterations 45\n",
            "The time taken 0.02121591567993164\n",
            "\n",
            "sm\n",
            "The optimal solution 0.012248965789972092\n",
            "The optimal value 0.19469024209322616\n",
            "The number of iterations 45\n",
            "The time taken 0.10535359382629395\n",
            "\n"
          ]
        }
      ]
    },
    {
      "cell_type": "markdown",
      "source": [
        "# Unconstrained Nonlinear Optimization Techniques"
      ],
      "metadata": {
        "id": "KjpQtWYeod36"
      }
    },
    {
      "cell_type": "markdown",
      "source": [
        "## Fletcher-Reeves Conjugate Gradient method"
      ],
      "metadata": {
        "id": "eE9VeYeSnrVD"
      }
    },
    {
      "cell_type": "code",
      "source": [
        "def Fletcher_Reeves(start, OF, GOF, HOF, epsilon = 0.01):\n",
        "\n",
        "  def optimal_lambda(grad, s, hessian):\n",
        "    return np.dot(grad, grad) / np.dot(s, np.dot(hessian, s))\n",
        "\n",
        "  def calc_beta(prev_grad, grad):\n",
        "    return np.dot(grad, grad) / np.dot(prev_grad, prev_grad)\n",
        "\n",
        "  n = len(start)\n",
        "\n",
        "  grad = GOF(start)\n",
        "  hessian = HOF(start)\n",
        "  s = -grad\n",
        "  lambda_opt = optimal_lambda(grad, s, hessian)\n",
        "  x = start + lambda_opt * s\n",
        "  prev_grad = grad\n",
        "  prev_s = s\n",
        "\n",
        "  iteration = 1\n",
        "\n",
        "  while np.linalg.norm(grad) > epsilon:\n",
        "\n",
        "    grad = GOF(x)\n",
        "    hessian = HOF(x)\n",
        "\n",
        "    beta = calc_beta(prev_grad, grad)\n",
        "    s = -grad + beta * prev_s\n",
        "\n",
        "    lambda_opt = optimal_lambda(grad, s, hessian)\n",
        "    x = x + lambda_opt * s\n",
        "\n",
        "    prev_grad = grad\n",
        "\n",
        "    if iteration % n:\n",
        "      prev_s = 0\n",
        "    else:\n",
        "      prev_s = s\n",
        "\n",
        "    iteration += 1\n",
        "\n",
        "  return np.linalg.norm(GOF(x)), x, OF(x), iteration"
      ],
      "metadata": {
        "id": "CG2ILC_uiXft"
      },
      "execution_count": null,
      "outputs": []
    },
    {
      "cell_type": "code",
      "source": [
        "start_time = time.time()\n",
        "grad, x, OF_value, iterations = Fletcher_Reeves(np.array([-1.2, 1]), rosenbrock, gradient_rosenbrock, hessian_rosenbrock)\n",
        "end_time = time.time()\n",
        "stats_rosenbrock['fr'] = [grad, x, OF_value, iterations, end_time - start_time]"
      ],
      "metadata": {
        "id": "LO6rUqq4tulz"
      },
      "execution_count": null,
      "outputs": []
    },
    {
      "cell_type": "code",
      "source": [
        "start_time = time.time()\n",
        "grad, x, OF_vlaue, iterations = Fletcher_Reeves(np.array([3, -1, 0, 1]), powell, gradient_powell, hessian_powell)\n",
        "end_time = time.time()\n",
        "stats_powell['fr'] = [grad, x, OF_vlaue, iterations, end_time - start_time]"
      ],
      "metadata": {
        "id": "tDv54ncII_Ad"
      },
      "execution_count": null,
      "outputs": []
    },
    {
      "cell_type": "markdown",
      "source": [
        "## Marquardt method"
      ],
      "metadata": {
        "id": "l6bf_0ZS5son"
      }
    },
    {
      "cell_type": "code",
      "source": [
        "def Marquardt(start, OF, GOF, HOF, alpha = 1e4, c1 = 0.5, c2 = 4, epsilon = 0.01):\n",
        "  STEPS = 10\n",
        "  iteration = 0\n",
        "  n = len(start)\n",
        "  x = start\n",
        "  grad = GOF(x)\n",
        "\n",
        "  while np.linalg.norm(grad) > epsilon:\n",
        "    steps = 0\n",
        "    while True:\n",
        "      if steps >= STEPS:\n",
        "        break\n",
        "\n",
        "      B = HOF(x) + alpha * np.eye(n)\n",
        "      B_inv = np.linalg.inv(B)\n",
        "      s = -np.dot(B_inv, grad)\n",
        "\n",
        "      prev_x = x\n",
        "      x = x + s\n",
        "\n",
        "      if OF(x) >= OF(prev_x):\n",
        "        alpha *= c2\n",
        "      else:\n",
        "        alpha *= c1\n",
        "        break\n",
        "\n",
        "      steps += 1\n",
        "\n",
        "    iteration += 1\n",
        "    grad = GOF(x)\n",
        "\n",
        "  return np.linalg.norm(grad), x, OF(x), iteration"
      ],
      "metadata": {
        "id": "kY3sE3N75yPl"
      },
      "execution_count": null,
      "outputs": []
    },
    {
      "cell_type": "code",
      "source": [
        "start_time = time.time()\n",
        "grad, x, OF_vlaue, iterations = Marquardt(np.array([-1.2, 1]), rosenbrock, gradient_rosenbrock, hessian_rosenbrock)\n",
        "end_time = time.time()\n",
        "stats_rosenbrock['mr'] = [grad, x, OF_vlaue, iterations, end_time - start_time]"
      ],
      "metadata": {
        "id": "PLImd9UBKEGt"
      },
      "execution_count": null,
      "outputs": []
    },
    {
      "cell_type": "code",
      "source": [
        "start_time = time.time()\n",
        "grad, x, OF_vlaue, iterations = Marquardt(np.array([3, -1, 0, 1]), powell, gradient_powell, hessian_powell)\n",
        "end_time = time.time()\n",
        "stats_powell['mr'] = [grad, x, OF_vlaue, iterations, end_time - start_time]"
      ],
      "metadata": {
        "id": "cZ_8pSLO-dxc"
      },
      "execution_count": null,
      "outputs": []
    },
    {
      "cell_type": "markdown",
      "source": [
        "## Quasi-Newton method"
      ],
      "metadata": {
        "id": "8uTBnbZQJt7D"
      }
    },
    {
      "cell_type": "code",
      "source": [
        "def Quasi_Newton(start, OF, GOF, epsilon=0.01, max_iterations=1000):\n",
        "    iteration = 0\n",
        "    n = len(start)\n",
        "\n",
        "    prev_x = start\n",
        "    prev_grad = GOF(prev_x)\n",
        "    H = np.eye(n)\n",
        "\n",
        "    while np.linalg.norm(prev_grad) > epsilon and iteration < max_iterations:\n",
        "        s = -np.dot(H, prev_grad)\n",
        "\n",
        "        # This a backtracking line search algoritm. The stopping criterion is the Armijo–Goldstein condition.\n",
        "        # See https://en.wikipedia.org/wiki/Backtracking_line_search for further details.\n",
        "        optimal_step = 1.0\n",
        "        while OF(prev_x + optimal_step * s) > OF(prev_x) + 1e-4 * optimal_step * np.dot(prev_grad, s):\n",
        "            optimal_step *= 0.5\n",
        "\n",
        "        x = prev_x + optimal_step * s\n",
        "\n",
        "        grad = GOF(x)\n",
        "\n",
        "        y = grad - prev_grad\n",
        "\n",
        "        H = (np.eye(n) - np.outer(s, y) / (np.dot(s, y) + 1e-6)) @ H @ (np.eye(n) - np.outer(y, s) / (np.dot(s, y) + 1e-6)) + (np.dot(s, y) + 1e-6) / np.outer(s, s)\n",
        "\n",
        "        prev_x = x\n",
        "        prev_grad = grad\n",
        "\n",
        "        iteration += 1\n",
        "\n",
        "    return np.linalg.norm(GOF(x)), x, OF(x), iteration"
      ],
      "metadata": {
        "id": "VnF9rgRccp3H"
      },
      "execution_count": null,
      "outputs": []
    },
    {
      "cell_type": "code",
      "source": [
        "start_time = time.time()\n",
        "grad, x, OF_value, iterations = Quasi_Newton(np.array([-1.2, 1]), rosenbrock, gradient_rosenbrock)\n",
        "end_time = time.time()\n",
        "stats_rosenbrock['qnuncon'] = [grad, x, OF_value, iterations, end_time - start_time]"
      ],
      "metadata": {
        "id": "W2wN_ySNZjE4"
      },
      "execution_count": null,
      "outputs": []
    },
    {
      "cell_type": "code",
      "source": [
        "start_time = time.time()\n",
        "grad, x, OF_value, iterations = Quasi_Newton(np.array([3, -1, 0, 1]), powell, gradient_powell)\n",
        "end_time = time.time()\n",
        "stats_powell['qnuncon'] = [grad, x, OF_value, iterations, end_time - start_time]"
      ],
      "metadata": {
        "collapsed": true,
        "id": "r5BooAUb3doX"
      },
      "execution_count": null,
      "outputs": []
    },
    {
      "cell_type": "markdown",
      "source": [
        "# Unconstrained Nonlinear Optimization Results"
      ],
      "metadata": {
        "id": "zOKSNxbbJXI_"
      }
    },
    {
      "cell_type": "markdown",
      "source": [
        "## powell quartic function"
      ],
      "metadata": {
        "id": "H0P1_L2sKt5X"
      }
    },
    {
      "cell_type": "code",
      "source": [
        "for key, value in list(stats_powell.items())[5:]:\n",
        "  print(key)\n",
        "  print('The gradient is', value[0])\n",
        "  print('The optimal solution', value[1])\n",
        "  print('The optimal value', value[2])\n",
        "  print('The number of iterations', value[3])\n",
        "  print('The time taken', value[4])\n",
        "  print()"
      ],
      "metadata": {
        "colab": {
          "base_uri": "https://localhost:8080/"
        },
        "id": "Y_YmqrjPJZds",
        "outputId": "537895e9-6660-4a1a-b9a3-efebe217ab61"
      },
      "execution_count": null,
      "outputs": [
        {
          "output_type": "stream",
          "name": "stdout",
          "text": [
            "fr\n",
            "The gradient is 0.026388346679199613\n",
            "The optimal solution [ 0.09671869 -0.00952667  0.04545902  0.04602491]\n",
            "The optimal value 0.00017154189088549937\n",
            "The number of iterations 41\n",
            "The time taken 0.0024690628051757812\n",
            "\n",
            "mr\n",
            "The gradient is 0.005922152979578048\n",
            "The optimal solution [ 0.08440091 -0.00843456  0.04186865  0.04205224]\n",
            "The optimal value 0.00010451088286843896\n",
            "The number of iterations 19\n",
            "The time taken 0.00372314453125\n",
            "\n",
            "qnuncon\n",
            "The gradient is 0.006199675595609704\n",
            "The optimal solution [-0.01814078  0.0018444  -0.00171489 -0.00180868]\n",
            "The optimal value 8.482012595951096e-07\n",
            "The number of iterations 49\n",
            "The time taken 0.016776323318481445\n",
            "\n"
          ]
        }
      ]
    },
    {
      "cell_type": "markdown",
      "source": [
        "## Rosenbrock's parabolic valley function"
      ],
      "metadata": {
        "id": "E_UECwmMLD39"
      }
    },
    {
      "cell_type": "code",
      "source": [
        "for key, value in list(stats_rosenbrock.items())[5:]:\n",
        "  print(key)\n",
        "  print('The gradient is', value[0])\n",
        "  print('The optimal solution', value[1])\n",
        "  print('The optimal value', value[2])\n",
        "  print('The number of iterations', value[3])\n",
        "  print('The time taken', value[4])\n",
        "  print()"
      ],
      "metadata": {
        "colab": {
          "base_uri": "https://localhost:8080/"
        },
        "id": "xTFLwERCLDYW",
        "outputId": "4d417063-9f4c-45ca-a3bf-95694329979a"
      },
      "execution_count": null,
      "outputs": [
        {
          "output_type": "stream",
          "name": "stdout",
          "text": [
            "fr\n",
            "The gradient is 0.016965508143928026\n",
            "The optimal solution [0.99823557 0.99650502]\n",
            "The optimal value 3.2078141452276947e-06\n",
            "The number of iterations 116\n",
            "The time taken 0.004815101623535156\n",
            "\n",
            "mr\n",
            "The gradient is 0.003789969353874406\n",
            "The optimal solution [0.99630927 0.9926215 ]\n",
            "The optimal value 1.3632868251062097e-05\n",
            "The number of iterations 26\n",
            "The time taken 0.0017507076263427734\n",
            "\n",
            "qnuncon\n",
            "The gradient is 0.008111873737858225\n",
            "The optimal solution [1.00246043 1.00495416]\n",
            "The optimal value 6.127980408855166e-06\n",
            "The number of iterations 141\n",
            "The time taken 0.02677178382873535\n",
            "\n"
          ]
        }
      ]
    }
  ]
}