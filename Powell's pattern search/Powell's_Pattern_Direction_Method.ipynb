{
  "nbformat": 4,
  "nbformat_minor": 0,
  "metadata": {
    "colab": {
      "provenance": []
    },
    "kernelspec": {
      "name": "python3",
      "display_name": "Python 3"
    },
    "language_info": {
      "name": "python"
    }
  },
  "cells": [
    {
      "cell_type": "markdown",
      "source": [
        "### This notebook is dedicated to implementing a direct search algorithm for solving non-linear programming problems. The algorithm is called Powell's pattern search, which exhibits a quadratic convergence; consequently, it is most suitable for solving quadratic problems."
      ],
      "metadata": {
        "id": "syCEqrcLeTdv"
      }
    },
    {
      "cell_type": "code",
      "source": [
        "import numpy as np\n",
        "from sympy.solvers import solve\n",
        "from sympy import diff, Symbol\n",
        "from sympy.parsing.sympy_parser import parse_expr"
      ],
      "metadata": {
        "id": "sKrudqAdidgz"
      },
      "execution_count": 5,
      "outputs": []
    },
    {
      "cell_type": "markdown",
      "source": [
        "$$f(x_1, x_2) = 4x_1^2 - 5x_1x_2 + 3x_2^2 - 8x_1$$"
      ],
      "metadata": {
        "id": "E_nT2zoPfCnC"
      }
    },
    {
      "cell_type": "code",
      "source": [
        "def OF_cur(x1, x2):\n",
        "  return f'4 * ({x1}) ** 2 - 5 * ({x1}) * ({x2}) + 3 * ({x2}) ** 2 - 8 * ({x1})'"
      ],
      "metadata": {
        "id": "4JRi-w6iimQf"
      },
      "execution_count": 2,
      "outputs": []
    },
    {
      "cell_type": "code",
      "source": [
        "def Powell_method(cur, OF_cur, max_iterations = None):\n",
        "  THRESHOLD = 1e-6\n",
        "  if not max_iterations:\n",
        "    max_iterations = len(cur)\n",
        "\n",
        "  n = len(cur)\n",
        "  search_directions = np.identity(n)\n",
        "  print('The search directions are:', search_directions)\n",
        "\n",
        "  indices = []\n",
        "  indices.append(n - 1)\n",
        "  for i in range(n - 1):\n",
        "    indices.append(i)\n",
        "  indices.append(n - 1)\n",
        "  print('Indices are', indices)\n",
        "\n",
        "  for _ in range(max_iterations):\n",
        "    print('Iteration number:', _ + 1)\n",
        "    search_update = []\n",
        "    for i in indices:\n",
        "      d = {}\n",
        "      for j in range(n):\n",
        "        d['x' + str(j + 1)] = str(cur[j]) + '+' + str(search_directions[i][j]) + '*' + 'x'\n",
        "      f_cur = OF_cur(**d)\n",
        "      symbol =  {'x': Symbol('x', real=True)}\n",
        "      f_cur = parse_expr(f_cur, symbol)\n",
        "      first_derivative = diff(f_cur, symbol['x'])\n",
        "      try:\n",
        "        lambda_optimal = float(solve(first_derivative, symbol['x'])[0])\n",
        "      except:\n",
        "        lambda_optimal = 0\n",
        "      lambda_optimal = 0 if lambda_optimal < THRESHOLD else lambda_optimal\n",
        "\n",
        "      print('The optimal lambda is:', lambda_optimal, 'for the search direction:', search_directions[i])\n",
        "      cur = cur + lambda_optimal * search_directions[i]\n",
        "      print('The current value of x is:', cur)\n",
        "      if i == n - 1:\n",
        "        search_update.append(cur)\n",
        "\n",
        "    sp = search_update[1] - search_update[0]\n",
        "    search_directions = np.vstack([search_directions, sp])\n",
        "    search_directions = search_directions[1:, :]\n",
        "  print('The optimal solution is:', cur)"
      ],
      "metadata": {
        "id": "UgZuTBsXnhiq"
      },
      "execution_count": 16,
      "outputs": []
    },
    {
      "cell_type": "code",
      "source": [
        "Powell_method(np.array([0, 0]), OF_cur)"
      ],
      "metadata": {
        "colab": {
          "base_uri": "https://localhost:8080/"
        },
        "id": "CfmpwoS2CHuz",
        "outputId": "84394795-472c-4a87-ef8e-f849b310f5bd"
      },
      "execution_count": 17,
      "outputs": [
        {
          "output_type": "stream",
          "name": "stdout",
          "text": [
            "The search directions are: [[1. 0.]\n",
            " [0. 1.]]\n",
            "Indices are [1, 0, 1]\n",
            "Iteration number: 1\n",
            "The optimal lambda is: 0 for the search direction: [0. 1.]\n",
            "The current value of x is: [0. 0.]\n",
            "The optimal lambda is: 1.0 for the search direction: [1. 0.]\n",
            "The current value of x is: [1. 0.]\n",
            "The optimal lambda is: 0.8333333333333334 for the search direction: [0. 1.]\n",
            "The current value of x is: [1.         0.83333333]\n",
            "Iteration number: 2\n",
            "The optimal lambda is: 1.0869565217391304 for the search direction: [1.         0.83333333]\n",
            "The current value of x is: [2.08695652 1.73913043]\n",
            "The optimal lambda is: 0 for the search direction: [0. 1.]\n",
            "The current value of x is: [2.08695652 1.73913043]\n",
            "The optimal lambda is: 0 for the search direction: [1.         0.83333333]\n",
            "The current value of x is: [2.08695652 1.73913043]\n",
            "The optimal solution is: [2.08695652 1.73913043]\n"
          ]
        }
      ]
    },
    {
      "cell_type": "markdown",
      "source": [
        "# Reference\n",
        "Vassiliadis, V.S., Conejeros, R. (2001). Powell Method . In: Floudas, C.A., Pardalos, P.M. (eds) Encyclopedia of Optimization. Springer, Boston, MA. https://doi.org/10.1007/0-306-48332-7_393"
      ],
      "metadata": {
        "id": "Zx3LN6Cfe3K8"
      }
    }
  ]
}